{
 "cells": [
  {
   "cell_type": "code",
   "execution_count": null,
   "metadata": {},
   "outputs": [],
   "source": [
    "import pandas as pd\n",
    "import os\n",
    "from tqdm import tqdm\n",
    "from glob import glob\n",
    "import numpy as np"
   ]
  },
  {
   "cell_type": "code",
   "execution_count": null,
   "metadata": {
    "scrolled": true
   },
   "outputs": [],
   "source": [
    "all_cnv = pd.read_csv('gene_matrix_CNV_noNA.csv.gz', compression='gzip')"
   ]
  },
  {
   "cell_type": "code",
   "execution_count": null,
   "metadata": {},
   "outputs": [],
   "source": [
    "path_mrmr = 'mrmrDEGs'\n",
    "\n",
    "files = sorted(glob(path_mrmr+'/*cov3*noBDN.txt'))\n",
    "\n",
    "for f in tqdm(files):\n",
    "    new_name = f.split('/')[-1].split('.')[0]\n",
    "    columns = pd.read_csv(f)['x'].values\n",
    "    # columns = np.insert(columns, 0,'CpGs')\n",
    "    # all_filter = all_cpgs.loc[columns]\n",
    "    data = all_cnv.loc[all_cnv['gene_name'].isin(columns)]\n",
    "    data = data.reindex(data.gene_name.map({x: i for i, x in enumerate(columns)}).sort_values().index)\n",
    "    data = data.T\n",
    "    data.columns = data.iloc[1]\n",
    "    data = data.iloc[3:]\n",
    "    data.columns.names = ['Case_IDs']\n",
    "    data.to_csv(path_mrmr+'/'+new_name+'.csv', index=True)"
   ]
  },
  {
   "cell_type": "markdown",
   "metadata": {},
   "source": [
    "# get p-value columns"
   ]
  },
  {
   "cell_type": "code",
   "execution_count": null,
   "metadata": {},
   "outputs": [],
   "source": [
    "path = 'p-valueDEGsAll/'\n",
    "files = sorted(glob('train_degs2/DEGs_CNV_*p0-001_m0-1_cov3*.csv'))\n",
    "\n",
    "for f in tqdm(files):\n",
    "    new_name = f.split('/')[-1].split('.')[0]\n",
    "    columns = pd.read_csv(f)['gene_name'].values\n",
    "    # columns = np.insert(columns, 0,'CpGs')\n",
    "    # all_filter = all_cpgs.loc[columns]\n",
    "    data = all_cnv.loc[all_cnv['gene_name'].isin(columns)]\n",
    "    data = data.reindex(data.gene_name.map({x: i for i, x in enumerate(columns)}).sort_values().index)\n",
    "    data = data.T\n",
    "    data.columns = data.iloc[1]\n",
    "    data = data.iloc[3:]\n",
    "    data.columns.names = ['Case_IDs']\n",
    "    data.to_csv(path+'/'+new_name+'.csv', index=True)"
   ]
  }
 ],
 "metadata": {
  "kernelspec": {
   "display_name": "Python 3",
   "language": "python",
   "name": "python3"
  },
  "language_info": {
   "codemirror_mode": {
    "name": "ipython",
    "version": 3
   },
   "file_extension": ".py",
   "mimetype": "text/x-python",
   "name": "python",
   "nbconvert_exporter": "python",
   "pygments_lexer": "ipython3",
   "version": "3.9.1"
  },
  "toc": {
   "base_numbering": 1,
   "nav_menu": {},
   "number_sections": true,
   "sideBar": true,
   "skip_h1_title": false,
   "title_cell": "Table of Contents",
   "title_sidebar": "Contents",
   "toc_cell": false,
   "toc_position": {},
   "toc_section_display": true,
   "toc_window_display": false
  },
  "varInspector": {
   "cols": {
    "lenName": 16,
    "lenType": 16,
    "lenVar": 40
   },
   "kernels_config": {
    "python": {
     "delete_cmd_postfix": "",
     "delete_cmd_prefix": "del ",
     "library": "var_list.py",
     "varRefreshCmd": "print(var_dic_list())"
    },
    "r": {
     "delete_cmd_postfix": ") ",
     "delete_cmd_prefix": "rm(",
     "library": "var_list.r",
     "varRefreshCmd": "cat(var_dic_list()) "
    }
   },
   "types_to_exclude": [
    "module",
    "function",
    "builtin_function_or_method",
    "instance",
    "_Feature"
   ],
   "window_display": false
  }
 },
 "nbformat": 4,
 "nbformat_minor": 4
}
