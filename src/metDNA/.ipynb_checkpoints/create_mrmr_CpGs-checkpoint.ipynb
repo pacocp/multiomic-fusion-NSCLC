{
 "cells": [
  {
   "cell_type": "code",
   "execution_count": null,
   "metadata": {},
   "outputs": [],
   "source": [
    "import pandas as pd\n",
    "import os\n",
    "from tqdm import tqdm\n",
    "from glob import glob\n",
    "import numpy as np"
   ]
  },
  {
   "cell_type": "code",
   "execution_count": null,
   "metadata": {},
   "outputs": [],
   "source": [
    "all_CpGS = pd.read_csv('CpGs_450_matrix_nonans.csv.gz', compression='gzip')"
   ]
  },
  {
   "cell_type": "code",
   "execution_count": null,
   "metadata": {},
   "outputs": [],
   "source": [
    "print(pd.read_csv('CpGs_450_matrix_nonans.csv.gz', compression='gzip').shape)"
   ]
  },
  {
   "cell_type": "code",
   "execution_count": null,
   "metadata": {},
   "outputs": [],
   "source": [
    "path_mrmr = 'mrmrCpGs'\n",
    "\n",
    "files = sorted(glob(path_mrmr+'/*.txt'))\n",
    "\n",
    "for f in tqdm(files):\n",
    "    new_name = f.split('/')[-1].split('.')[0]\n",
    "    columns = pd.read_csv(f)['x'].values\n",
    "    # columns = np.insert(columns, 0,'CpGs')\n",
    "    # all_filter = all_cpgs.loc[columns]\n",
    "    #data = all_CpGS.loc[all_CpGS['CpGs'].isin(columns)].T\n",
    "    data = all_CpGS.loc[all_CpGS['CpGs'].isin(columns)]\n",
    "    data = data.reindex(data.CpGs.map({x: i for i, x in enumerate(columns)}).sort_values().index)\n",
    "    data = data.T\n",
    "    data.columns = data.iloc[0]\n",
    "    data = data.iloc[1:]\n",
    "    data.columns.names = ['Case_IDs']\n",
    "    data.to_csv(path_mrmr+'/'+new_name+'.csv', index=True)\n",
    "    "
   ]
  },
  {
   "cell_type": "markdown",
   "metadata": {},
   "source": [
    "# obtain p-values degs"
   ]
  },
  {
   "cell_type": "code",
   "execution_count": null,
   "metadata": {},
   "outputs": [],
   "source": [
    "p_value = pd.read_csv('train_degs/CpGs_DE_train0_p0-001_cov2.csv')\n",
    "p_value['CpGs'].values[0:-1]"
   ]
  },
  {
   "cell_type": "code",
   "execution_count": null,
   "metadata": {},
   "outputs": [],
   "source": [
    "import os\n",
    "os.mkdir('p-valueDEGs_DNA')"
   ]
  },
  {
   "cell_type": "code",
   "execution_count": null,
   "metadata": {},
   "outputs": [],
   "source": [
    "path = 'p-valueDEGs_DNA'\n",
    "path_mrmr = 'train_degs'\n",
    "files = sorted(glob(path_mrmr+'/*.csv'))\n",
    "\n",
    "for f in tqdm(files):\n",
    "    new_name = f.split('/')[-1].split('.')[0]\n",
    "    new_name = new_name.replace('train', 'split')\n",
    "    columns = pd.read_csv(f)['CpGs'].values[0:-1]\n",
    "    # columns = np.insert(columns, 0,'CpGs')\n",
    "    # all_filter = all_cpgs.loc[columns]\n",
    "    #data = all_CpGS.loc[all_CpGS['CpGs'].isin(columns)].T\n",
    "    data = all_CpGS.loc[all_CpGS['CpGs'].isin(columns)]\n",
    "    data = data.reindex(data.CpGs.map({x: i for i, x in enumerate(columns)}).sort_values().index)\n",
    "    data = data.T\n",
    "    data.columns = data.iloc[0]\n",
    "    data = data.iloc[1:]\n",
    "    data.columns.names = ['Case_IDs']\n",
    "    data.to_csv(path+'/'+new_name+'.csv', index=True)\n",
    "    "
   ]
  }
 ],
 "metadata": {
  "kernelspec": {
   "display_name": "Python 3",
   "language": "python",
   "name": "python3"
  },
  "language_info": {
   "codemirror_mode": {
    "name": "ipython",
    "version": 3
   },
   "file_extension": ".py",
   "mimetype": "text/x-python",
   "name": "python",
   "nbconvert_exporter": "python",
   "pygments_lexer": "ipython3",
   "version": "3.9.1"
  },
  "toc": {
   "base_numbering": 1,
   "nav_menu": {},
   "number_sections": true,
   "sideBar": true,
   "skip_h1_title": false,
   "title_cell": "Table of Contents",
   "title_sidebar": "Contents",
   "toc_cell": false,
   "toc_position": {},
   "toc_section_display": true,
   "toc_window_display": false
  },
  "varInspector": {
   "cols": {
    "lenName": 16,
    "lenType": 16,
    "lenVar": 40
   },
   "kernels_config": {
    "python": {
     "delete_cmd_postfix": "",
     "delete_cmd_prefix": "del ",
     "library": "var_list.py",
     "varRefreshCmd": "print(var_dic_list())"
    },
    "r": {
     "delete_cmd_postfix": ") ",
     "delete_cmd_prefix": "rm(",
     "library": "var_list.r",
     "varRefreshCmd": "cat(var_dic_list()) "
    }
   },
   "types_to_exclude": [
    "module",
    "function",
    "builtin_function_or_method",
    "instance",
    "_Feature"
   ],
   "window_display": false
  }
 },
 "nbformat": 4,
 "nbformat_minor": 4
}
